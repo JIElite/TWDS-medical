{
 "cells": [
  {
   "cell_type": "code",
   "execution_count": 1,
   "id": "7c1f56ae",
   "metadata": {},
   "outputs": [],
   "source": [
    "import pandas as pd"
   ]
  },
  {
   "cell_type": "code",
   "execution_count": 2,
   "id": "d1754248",
   "metadata": {},
   "outputs": [
    {
     "data": {
      "text/plain": [
       "0.0    64807\n",
       "1.0    15164\n",
       "Name: ADDEPEV3, dtype: int64"
      ]
     },
     "execution_count": 2,
     "metadata": {},
     "output_type": "execute_result"
    }
   ],
   "source": [
    "training_data = pd.read_csv('./merged_data/brfss_combine_test_v2_important_20220708.csv')\n",
    "training_data['ADDEPEV3'].value_counts()"
   ]
  },
  {
   "cell_type": "code",
   "execution_count": 3,
   "id": "b9b6fe98",
   "metadata": {},
   "outputs": [
    {
     "name": "stdout",
     "output_type": "stream",
     "text": [
      "18.96 \n"
     ]
    }
   ],
   "source": [
    "p = 60656 / (259226 + 60656)\n",
    "\n",
    "# The proportion of depression candidate\n",
    "print('%.2f '% (p*100))"
   ]
  },
  {
   "cell_type": "code",
   "execution_count": 4,
   "id": "d6c62318",
   "metadata": {},
   "outputs": [
    {
     "name": "stdout",
     "output_type": "stream",
     "text": [
      "79971\n"
     ]
    }
   ],
   "source": [
    "num_of_samples = training_data.shape[0]\n",
    "print(num_of_samples)"
   ]
  },
  {
   "cell_type": "code",
   "execution_count": 5,
   "id": "26e747d9",
   "metadata": {},
   "outputs": [],
   "source": [
    "import joblib\n",
    "from sklearn.metrics import recall_score, precision_score\n",
    "from flare.eval import Evaluator\n",
    "from flare.preprocessing import split_features_target"
   ]
  },
  {
   "cell_type": "code",
   "execution_count": 6,
   "id": "dc6639f3",
   "metadata": {},
   "outputs": [],
   "source": [
    "X, y = split_features_target(training_data)\n",
    "X.drop(columns=['Unnamed: 0'], inplace=True)\n",
    "model = joblib.load('./models/LGBMClassifier-training-2022-07-10 20:31:27.566333.pkl')"
   ]
  },
  {
   "cell_type": "code",
   "execution_count": 7,
   "id": "fc7c90e8",
   "metadata": {},
   "outputs": [
    {
     "data": {
      "text/plain": [
       "{'recall_score': 0.04299657082563967, 'precision_score': 0.9314285714285714}"
      ]
     },
     "execution_count": 7,
     "metadata": {},
     "output_type": "execute_result"
    }
   ],
   "source": [
    "evaluator = Evaluator(scoring_funcs=[recall_score, precision_score], prob_threshold=0.90)\n",
    "evaluator.evaluate(model, X, y)"
   ]
  },
  {
   "cell_type": "code",
   "execution_count": 8,
   "id": "56836571",
   "metadata": {},
   "outputs": [
    {
     "data": {
      "text/plain": [
       "{'recall_score': 0.18563703508309154, 'precision_score': 0.8496830667069122}"
      ]
     },
     "execution_count": 8,
     "metadata": {},
     "output_type": "execute_result"
    }
   ],
   "source": [
    "evaluator = Evaluator(scoring_funcs=[recall_score, precision_score], prob_threshold=0.75)\n",
    "evaluator.evaluate(model, X, y)"
   ]
  },
  {
   "cell_type": "code",
   "execution_count": 9,
   "id": "4677a872",
   "metadata": {},
   "outputs": [
    {
     "data": {
      "text/plain": [
       "{'recall_score': 0.334938011078871, 'precision_score': 0.7526674570243035}"
      ]
     },
     "execution_count": 9,
     "metadata": {},
     "output_type": "execute_result"
    }
   ],
   "source": [
    "evaluator = Evaluator(scoring_funcs=[recall_score, precision_score], prob_threshold=0.58)\n",
    "evaluator.evaluate(model, X, y)"
   ]
  },
  {
   "cell_type": "code",
   "execution_count": 10,
   "id": "29a73285",
   "metadata": {},
   "outputs": [
    {
     "data": {
      "text/plain": [
       "{'recall_score': 0.4043787918754946, 'precision_score': 0.6939791760977818}"
      ]
     },
     "execution_count": 10,
     "metadata": {},
     "output_type": "execute_result"
    }
   ],
   "source": [
    "evaluator = Evaluator(scoring_funcs=[recall_score, precision_score], prob_threshold=0.50)\n",
    "evaluator.evaluate(model, X, y)"
   ]
  }
 ],
 "metadata": {
  "kernelspec": {
   "display_name": "Python 3 (ipykernel)",
   "language": "python",
   "name": "python3"
  },
  "language_info": {
   "codemirror_mode": {
    "name": "ipython",
    "version": 3
   },
   "file_extension": ".py",
   "mimetype": "text/x-python",
   "name": "python",
   "nbconvert_exporter": "python",
   "pygments_lexer": "ipython3",
   "version": "3.10.4"
  }
 },
 "nbformat": 4,
 "nbformat_minor": 5
}
