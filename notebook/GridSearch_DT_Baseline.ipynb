{
 "cells": [
  {
   "cell_type": "code",
   "execution_count": 1,
   "id": "f5819f79",
   "metadata": {},
   "outputs": [],
   "source": [
    "%matplotlib inline\n",
    "import pandas as pd\n",
    "import matplotlib.pyplot as plt"
   ]
  },
  {
   "cell_type": "code",
   "execution_count": 2,
   "id": "f248a0ef",
   "metadata": {},
   "outputs": [],
   "source": [
    "pd.set_option('display.max_columns', 999)\n",
    "pd.set_option('display.max_rows', 999)"
   ]
  },
  {
   "cell_type": "code",
   "execution_count": 3,
   "id": "35e836eb",
   "metadata": {},
   "outputs": [],
   "source": [
    "df = pd.read_csv('../merged_data/brfss_combine_cleaned.csv')"
   ]
  },
  {
   "cell_type": "code",
   "execution_count": 4,
   "id": "e6ee265c",
   "metadata": {},
   "outputs": [],
   "source": [
    "def convert_IDATE(x):\n",
    "    return x[:4] + x[5:7]"
   ]
  },
  {
   "cell_type": "code",
   "execution_count": 5,
   "id": "35efb785",
   "metadata": {},
   "outputs": [
    {
     "data": {
      "text/plain": [
       "(399854, 301)"
      ]
     },
     "execution_count": 5,
     "metadata": {},
     "output_type": "execute_result"
    }
   ],
   "source": [
    "df.shape"
   ]
  },
  {
   "cell_type": "code",
   "execution_count": 6,
   "id": "e8f19425",
   "metadata": {},
   "outputs": [
    {
     "data": {
      "text/plain": [
       "Index(['Unnamed: 0', 'IDATE', 'CNCRAGE_N', 'CNCRAGE_C', 'PHYSHLTH_N',\n",
       "       'PHYSHLTH_C', 'FEETCHK_N', 'FEETCHK_C', 'MAXDRNKS_N', 'MAXDRNKS_C',\n",
       "       ...\n",
       "       'CSRVCTL2', 'ACETOUCH', 'TRETHEPC', '_RACEG21', '_RFSEAT2', 'PVTRESD3',\n",
       "       'HADHYST2', 'PDIABTST', 'CRGVALZD', 'HAVECFS'],\n",
       "      dtype='object', length=301)"
      ]
     },
     "execution_count": 6,
     "metadata": {},
     "output_type": "execute_result"
    }
   ],
   "source": [
    "df.columns"
   ]
  },
  {
   "cell_type": "code",
   "execution_count": 7,
   "id": "9e33cd31",
   "metadata": {},
   "outputs": [],
   "source": [
    "df = df.drop(columns=['Unnamed: 0', 'IDATE'])\n",
    "# df['IDATE'] = df['IDATE'].apply(convert_IDATE).astype(int)"
   ]
  },
  {
   "cell_type": "code",
   "execution_count": 8,
   "id": "a2ec84a1",
   "metadata": {},
   "outputs": [],
   "source": [
    "target = 'ADDEPEV3'"
   ]
  },
  {
   "cell_type": "code",
   "execution_count": 9,
   "id": "49835cc2",
   "metadata": {},
   "outputs": [],
   "source": [
    "df = df.sample(frac=1, random_state=42)\n",
    "X = df.drop(columns=[target])\n",
    "y = df[target]"
   ]
  },
  {
   "cell_type": "code",
   "execution_count": 10,
   "id": "d60d9a6c",
   "metadata": {},
   "outputs": [],
   "source": [
    "from sklearn.model_selection import cross_val_score\n",
    "from sklearn.model_selection import train_test_split\n",
    "from sklearn.metrics import accuracy_score, cohen_kappa_score, confusion_matrix\n",
    "from sklearn.tree import DecisionTreeClassifier"
   ]
  },
  {
   "cell_type": "code",
   "execution_count": 11,
   "id": "c95d8c90",
   "metadata": {},
   "outputs": [],
   "source": [
    "X_train, X_val, y_train, y_val = train_test_split(X, y, test_size=0.1, random_state=42)"
   ]
  },
  {
   "cell_type": "code",
   "execution_count": null,
   "id": "af2f9037",
   "metadata": {},
   "outputs": [],
   "source": [
    "clf = DecisionTreeClassifier(max_depth=30, min_samples_leaf=10)\n",
    "clf.fit(X, y)"
   ]
  },
  {
   "cell_type": "code",
   "execution_count": 12,
   "id": "0b031752",
   "metadata": {},
   "outputs": [
    {
     "data": {
      "text/plain": [
       "GridSearchCV(estimator=DecisionTreeClassifier(), n_jobs=16,\n",
       "             param_grid={'max_depth': [10, 15, 20, 25, 30],\n",
       "                         'min_samples_leaf': [5, 10, 15, 20, 25, 30]},\n",
       "             return_train_score=True, scoring='accuracy')"
      ]
     },
     "execution_count": 12,
     "metadata": {},
     "output_type": "execute_result"
    }
   ],
   "source": [
    "from sklearn.model_selection import GridSearchCV\n",
    "\n",
    "parameters = {'max_depth': [10, 15, 20, 25, 30], 'min_samples_leaf': [5, 10, 15, 20, 25, 30]}\n",
    "clf = GridSearchCV(estimator=DecisionTreeClassifier(),\n",
    "                   param_grid=parameters,\n",
    "                   scoring='accuracy',\n",
    "                   return_train_score=True,\n",
    "                   n_jobs=16)\n",
    "clf.fit(X, y)"
   ]
  },
  {
   "cell_type": "code",
   "execution_count": 13,
   "id": "4c374636",
   "metadata": {},
   "outputs": [
    {
     "name": "stdout",
     "output_type": "stream",
     "text": [
      "DecisionTreeClassifier(max_depth=10, min_samples_leaf=30)\n",
      "0.8519231731105887\n"
     ]
    }
   ],
   "source": [
    "print(clf.best_estimator_)\n",
    "print(accuracy_score(y_val, clf.best_estimator_.predict(X_val)))"
   ]
  },
  {
   "cell_type": "code",
   "execution_count": 14,
   "id": "3868729a",
   "metadata": {},
   "outputs": [
    {
     "data": {
      "text/plain": [
       "<sklearn.metrics._plot.roc_curve.RocCurveDisplay at 0x7f9a66258820>"
      ]
     },
     "execution_count": 14,
     "metadata": {},
     "output_type": "execute_result"
    },
    {
     "data": {
      "image/png": "[encoded data removed]",
      "text/plain": [
       "<Figure size 432x288 with 1 Axes>"
      ]
     },
     "metadata": {
      "needs_background": "light"
     },
     "output_type": "display_data"
    }
   ],
   "source": [
    "from sklearn.metrics import RocCurveDisplay\n",
    "\n",
    "RocCurveDisplay.from_estimator(clf.best_estimator_, X, y)"
   ]
  },
  {
   "cell_type": "code",
   "execution_count": 15,
   "id": "793d1000",
   "metadata": {},
   "outputs": [
    {
     "data": {
      "text/plain": [
       "GridSearchCV(estimator=DecisionTreeClassifier(), n_jobs=16,\n",
       "             param_grid={'max_depth': [10, 15, 20, 25, 30],\n",
       "                         'min_samples_leaf': [5, 10, 15, 20, 25, 30]},\n",
       "             return_train_score=True, scoring='recall')"
      ]
     },
     "execution_count": 15,
     "metadata": {},
     "output_type": "execute_result"
    }
   ],
   "source": [
    "from sklearn.model_selection import GridSearchCV\n",
    "\n",
    "parameters = {'max_depth': [10, 15, 20, 25, 30], 'min_samples_leaf': [5, 10, 15, 20, 25, 30]}\n",
    "clf_recall = GridSearchCV(estimator=DecisionTreeClassifier(),\n",
    "                   param_grid=parameters,\n",
    "                   scoring='recall',\n",
    "                   return_train_score=True,\n",
    "                   n_jobs=16)\n",
    "clf_recall.fit(X, y)"
   ]
  },
  {
   "cell_type": "code",
   "execution_count": 16,
   "id": "2d04529c",
   "metadata": {},
   "outputs": [
    {
     "name": "stdout",
     "output_type": "stream",
     "text": [
      "DecisionTreeClassifier(max_depth=30, min_samples_leaf=5)\n",
      "0.9251488020807282\n"
     ]
    }
   ],
   "source": [
    "print(clf_recall.best_estimator_)\n",
    "print(accuracy_score(y_val, clf_recall.best_estimator_.predict(X_val)))"
   ]
  },
  {
   "cell_type": "code",
   "execution_count": 17,
   "id": "a2e09b7d",
   "metadata": {},
   "outputs": [
    {
     "data": {
      "text/plain": [
       "<sklearn.metrics._plot.roc_curve.RocCurveDisplay at 0x7f9a66259540>"
      ]
     },
     "execution_count": 17,
     "metadata": {},
     "output_type": "execute_result"
    },
    {
     "data": {
      "image/png": "[encoded data removed]",
      "text/plain": [
       "<Figure size 432x288 with 1 Axes>"
      ]
     },
     "metadata": {
      "needs_background": "light"
     },
     "output_type": "display_data"
    }
   ],
   "source": [
    "from sklearn.metrics import RocCurveDisplay\n",
    "\n",
    "RocCurveDisplay.from_estimator(clf_recall.best_estimator_, X, y)"
   ]
  },
  {
   "cell_type": "code",
   "execution_count": 18,
   "id": "0f400b18",
   "metadata": {},
   "outputs": [
    {
     "data": {
      "text/plain": [
       "GridSearchCV(estimator=DecisionTreeClassifier(), n_jobs=16,\n",
       "             param_grid={'max_depth': [10, 15, 20, 25, 30],\n",
       "                         'min_samples_leaf': [5, 10, 15, 20, 25, 30]},\n",
       "             return_train_score=True, scoring='f1')"
      ]
     },
     "execution_count": 18,
     "metadata": {},
     "output_type": "execute_result"
    }
   ],
   "source": [
    "from sklearn.model_selection import GridSearchCV\n",
    "\n",
    "parameters = {'max_depth': [10, 15, 20, 25, 30], 'min_samples_leaf': [5, 10, 15, 20, 25, 30]}\n",
    "clf_f1 = GridSearchCV(estimator=DecisionTreeClassifier(),\n",
    "                   param_grid=parameters,\n",
    "                   scoring='f1',\n",
    "                   return_train_score=True,\n",
    "                   n_jobs=16)\n",
    "clf_f1.fit(X, y)"
   ]
  },
  {
   "cell_type": "code",
   "execution_count": 19,
   "id": "731be05d",
   "metadata": {},
   "outputs": [
    {
     "name": "stdout",
     "output_type": "stream",
     "text": [
      "DecisionTreeClassifier(max_depth=30, min_samples_leaf=25)\n",
      "0.8681288450957835\n"
     ]
    }
   ],
   "source": [
    "print(clf_f1.best_estimator_)\n",
    "print(accuracy_score(y_val, clf_f1.best_estimator_.predict(X_val)))"
   ]
  },
  {
   "cell_type": "code",
   "execution_count": 20,
   "id": "b8bdd15b",
   "metadata": {},
   "outputs": [
    {
     "data": {
      "text/plain": [
       "<sklearn.metrics._plot.roc_curve.RocCurveDisplay at 0x7f9a65f2d990>"
      ]
     },
     "execution_count": 20,
     "metadata": {},
     "output_type": "execute_result"
    },
    {
     "data": {
      "image/png": "[encoded data removed]",
      "text/plain": [
       "<Figure size 432x288 with 1 Axes>"
      ]
     },
     "metadata": {
      "needs_background": "light"
     },
     "output_type": "display_data"
    }
   ],
   "source": [
    "from sklearn.metrics import RocCurveDisplay\n",
    "\n",
    "RocCurveDisplay.from_estimator(clf_f1.best_estimator_, X, y)"
   ]
  },
  {
   "cell_type": "code",
   "execution_count": 21,
   "id": "3c80a92a",
   "metadata": {},
   "outputs": [
    {
     "data": {
      "text/plain": [
       "['DST_f1_gridsearch.pkl']"
      ]
     },
     "execution_count": 21,
     "metadata": {},
     "output_type": "execute_result"
    }
   ],
   "source": [
    "import joblib\n",
    "\n",
    "# Save the pretrained model\n",
    "joblib.dump(clf, 'DST_acc_gridsearch.pkl')\n",
    "joblib.dump(clf_recall, 'DST_recall_gridsearch.pkl')\n",
    "joblib.dump(clf_f1, 'DST_f1_gridsearch.pkl')"
   ]
  },
  {
   "cell_type": "code",
   "execution_count": null,
   "id": "57376017",
   "metadata": {},
   "outputs": [],
   "source": []
  }
 ],
 "metadata": {
  "kernelspec": {
   "display_name": "Python 3 (ipykernel)",
   "language": "python",
   "name": "python3"
  },
  "language_info": {
   "codemirror_mode": {
    "name": "ipython",
    "version": 3
   },
   "file_extension": ".py",
   "mimetype": "text/x-python",
   "name": "python",
   "nbconvert_exporter": "python",
   "pygments_lexer": "ipython3",
   "version": "3.10.4"
  }
 },
 "nbformat": 4,
 "nbformat_minor": 5
}
